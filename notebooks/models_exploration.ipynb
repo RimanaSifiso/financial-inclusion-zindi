{
 "cells": [
  {
   "cell_type": "markdown",
   "id": "a92800fd",
   "metadata": {},
   "source": [
    "# Models Exploration\n",
    "&copy; Sifiso Rimana | May, 2025 | Financial Inclusion - Zindi Competetion\n",
    "\n",
    "----"
   ]
  }
 ],
 "metadata": {
  "language_info": {
   "name": "python"
  }
 },
 "nbformat": 4,
 "nbformat_minor": 5
}
