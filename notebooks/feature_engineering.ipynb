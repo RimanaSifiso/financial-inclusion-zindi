{
 "cells": [
  {
   "cell_type": "markdown",
   "id": "076e131d",
   "metadata": {},
   "source": [
    "# Feature Engineering\n",
    "\n",
    "&copy; Sifiso Rimana | May, 2025 | Financial Inclusion - Zindi Competetion\n",
    "\n",
    "----"
   ]
  },
  {
   "cell_type": "code",
   "execution_count": 33,
   "id": "91c06865",
   "metadata": {},
   "outputs": [],
   "source": [
    "import pandas as pd\n",
    "import numpy as np\n",
    "import imblearn as imb\n",
    "from imblearn.datasets import fetch_datasets\n",
    "from matplotlib import pyplot as plt\n",
    "import arviz \n",
    "\n",
    "plt.style.use('arviz-darkgrid')\n",
    "\n",
    "import sys\n",
    "sys.path.append(\"../scripts\")\n",
    "\n",
    "from scripts.utils import load_model\n",
    "from scripts.utils import save_model\n",
    "\n",
    "from imblearn.over_sampling import RandomOverSampler\n",
    "from imblearn.over_sampling import SMOTE"
   ]
  },
  {
   "cell_type": "code",
   "execution_count": 20,
   "id": "ad6e6ee6",
   "metadata": {},
   "outputs": [
    {
     "data": {
      "text/html": [
       "<div>\n",
       "<style scoped>\n",
       "    .dataframe tbody tr th:only-of-type {\n",
       "        vertical-align: middle;\n",
       "    }\n",
       "\n",
       "    .dataframe tbody tr th {\n",
       "        vertical-align: top;\n",
       "    }\n",
       "\n",
       "    .dataframe thead th {\n",
       "        text-align: right;\n",
       "    }\n",
       "</style>\n",
       "<table border=\"1\" class=\"dataframe\">\n",
       "  <thead>\n",
       "    <tr style=\"text-align: right;\">\n",
       "      <th></th>\n",
       "      <th>country</th>\n",
       "      <th>year</th>\n",
       "      <th>bank_account</th>\n",
       "      <th>location_type</th>\n",
       "      <th>cellphone_access</th>\n",
       "      <th>household_size</th>\n",
       "      <th>age_of_respondent</th>\n",
       "      <th>gender_of_respondent</th>\n",
       "      <th>relationship_with_head</th>\n",
       "      <th>marital_status</th>\n",
       "      <th>education_level</th>\n",
       "      <th>job_type</th>\n",
       "    </tr>\n",
       "    <tr>\n",
       "      <th>uniqueid</th>\n",
       "      <th></th>\n",
       "      <th></th>\n",
       "      <th></th>\n",
       "      <th></th>\n",
       "      <th></th>\n",
       "      <th></th>\n",
       "      <th></th>\n",
       "      <th></th>\n",
       "      <th></th>\n",
       "      <th></th>\n",
       "      <th></th>\n",
       "      <th></th>\n",
       "    </tr>\n",
       "  </thead>\n",
       "  <tbody>\n",
       "    <tr>\n",
       "      <th>uniqueid_1</th>\n",
       "      <td>Kenya</td>\n",
       "      <td>2018</td>\n",
       "      <td>Yes</td>\n",
       "      <td>Rural</td>\n",
       "      <td>Yes</td>\n",
       "      <td>3</td>\n",
       "      <td>24</td>\n",
       "      <td>Female</td>\n",
       "      <td>Spouse</td>\n",
       "      <td>Married/Living together</td>\n",
       "      <td>Secondary education</td>\n",
       "      <td>Self employed</td>\n",
       "    </tr>\n",
       "    <tr>\n",
       "      <th>uniqueid_2</th>\n",
       "      <td>Kenya</td>\n",
       "      <td>2018</td>\n",
       "      <td>No</td>\n",
       "      <td>Rural</td>\n",
       "      <td>No</td>\n",
       "      <td>5</td>\n",
       "      <td>70</td>\n",
       "      <td>Female</td>\n",
       "      <td>Head of Household</td>\n",
       "      <td>Widowed</td>\n",
       "      <td>No formal education</td>\n",
       "      <td>Government Dependent</td>\n",
       "    </tr>\n",
       "    <tr>\n",
       "      <th>uniqueid_3</th>\n",
       "      <td>Kenya</td>\n",
       "      <td>2018</td>\n",
       "      <td>Yes</td>\n",
       "      <td>Urban</td>\n",
       "      <td>Yes</td>\n",
       "      <td>5</td>\n",
       "      <td>26</td>\n",
       "      <td>Male</td>\n",
       "      <td>Other relative</td>\n",
       "      <td>Single/Never Married</td>\n",
       "      <td>Vocational/Specialised training</td>\n",
       "      <td>Self employed</td>\n",
       "    </tr>\n",
       "    <tr>\n",
       "      <th>uniqueid_4</th>\n",
       "      <td>Kenya</td>\n",
       "      <td>2018</td>\n",
       "      <td>No</td>\n",
       "      <td>Rural</td>\n",
       "      <td>Yes</td>\n",
       "      <td>5</td>\n",
       "      <td>34</td>\n",
       "      <td>Female</td>\n",
       "      <td>Head of Household</td>\n",
       "      <td>Married/Living together</td>\n",
       "      <td>Primary education</td>\n",
       "      <td>Formally employed Private</td>\n",
       "    </tr>\n",
       "    <tr>\n",
       "      <th>uniqueid_5</th>\n",
       "      <td>Kenya</td>\n",
       "      <td>2018</td>\n",
       "      <td>No</td>\n",
       "      <td>Urban</td>\n",
       "      <td>No</td>\n",
       "      <td>8</td>\n",
       "      <td>26</td>\n",
       "      <td>Male</td>\n",
       "      <td>Child</td>\n",
       "      <td>Single/Never Married</td>\n",
       "      <td>Primary education</td>\n",
       "      <td>Informally employed</td>\n",
       "    </tr>\n",
       "  </tbody>\n",
       "</table>\n",
       "</div>"
      ],
      "text/plain": [
       "           country  year bank_account location_type cellphone_access  \\\n",
       "uniqueid                                                               \n",
       "uniqueid_1   Kenya  2018          Yes         Rural              Yes   \n",
       "uniqueid_2   Kenya  2018           No         Rural               No   \n",
       "uniqueid_3   Kenya  2018          Yes         Urban              Yes   \n",
       "uniqueid_4   Kenya  2018           No         Rural              Yes   \n",
       "uniqueid_5   Kenya  2018           No         Urban               No   \n",
       "\n",
       "            household_size  age_of_respondent gender_of_respondent  \\\n",
       "uniqueid                                                             \n",
       "uniqueid_1               3                 24               Female   \n",
       "uniqueid_2               5                 70               Female   \n",
       "uniqueid_3               5                 26                 Male   \n",
       "uniqueid_4               5                 34               Female   \n",
       "uniqueid_5               8                 26                 Male   \n",
       "\n",
       "           relationship_with_head           marital_status  \\\n",
       "uniqueid                                                     \n",
       "uniqueid_1                 Spouse  Married/Living together   \n",
       "uniqueid_2      Head of Household                  Widowed   \n",
       "uniqueid_3         Other relative     Single/Never Married   \n",
       "uniqueid_4      Head of Household  Married/Living together   \n",
       "uniqueid_5                  Child     Single/Never Married   \n",
       "\n",
       "                            education_level                   job_type  \n",
       "uniqueid                                                                \n",
       "uniqueid_1              Secondary education              Self employed  \n",
       "uniqueid_2              No formal education       Government Dependent  \n",
       "uniqueid_3  Vocational/Specialised training              Self employed  \n",
       "uniqueid_4                Primary education  Formally employed Private  \n",
       "uniqueid_5                Primary education        Informally employed  "
      ]
     },
     "execution_count": 20,
     "metadata": {},
     "output_type": "execute_result"
    }
   ],
   "source": [
    "df = pd.read_csv('../data/Train.csv', index_col='uniqueid')\n",
    "df.head()"
   ]
  },
  {
   "cell_type": "code",
   "execution_count": 21,
   "id": "fb2d61c0",
   "metadata": {},
   "outputs": [
    {
     "data": {
      "text/plain": [
       "Index(['country', 'year', 'bank_account', 'location_type', 'cellphone_access',\n",
       "       'household_size', 'age_of_respondent', 'gender_of_respondent',\n",
       "       'relationship_with_head', 'marital_status', 'education_level',\n",
       "       'job_type'],\n",
       "      dtype='object')"
      ]
     },
     "execution_count": 21,
     "metadata": {},
     "output_type": "execute_result"
    }
   ],
   "source": [
    "df.columns"
   ]
  },
  {
   "cell_type": "markdown",
   "id": "ca92cf34",
   "metadata": {},
   "source": [
    "We think there could be some inherent order in location type. For example, those living in urban areas receive more services than those living in rural areas. We plot this to convince ourselves."
   ]
  },
  {
   "cell_type": "code",
   "execution_count": 22,
   "id": "5326547c",
   "metadata": {},
   "outputs": [
    {
     "data": {
      "text/plain": [
       "array(['Rural', 'Urban'], dtype=object)"
      ]
     },
     "execution_count": 22,
     "metadata": {},
     "output_type": "execute_result"
    }
   ],
   "source": [
    "df['location_type'].unique()"
   ]
  },
  {
   "cell_type": "code",
   "execution_count": 10,
   "id": "e3ea1928",
   "metadata": {},
   "outputs": [
    {
     "data": {
      "image/png": "[encoded data removed]",
      "text/plain": [
       "<Figure size 1200x700 with 1 Axes>"
      ]
     },
     "metadata": {},
     "output_type": "display_data"
    }
   ],
   "source": [
    "df.groupby(['location_type', 'bank_account']).size().unstack(fill_value=0).plot(\n",
    "    kind='bar', alpha=0.8, figsize=(12,7)\n",
    ")\n",
    "\n",
    "plt.title(f'Bank account possession by Location type')\n",
    "plt.xlabel(None)\n",
    "plt.ylabel('# of observations')\n",
    "plt.legend(title=\"Bank account\")\n",
    "plt.show()"
   ]
  },
  {
   "cell_type": "markdown",
   "id": "eda787b2",
   "metadata": {},
   "source": [
    "The plot may be somewhat misleading, let us look at the proportion of people having a bank account in each group."
   ]
  },
  {
   "cell_type": "code",
   "execution_count": null,
   "id": "3f509e98",
   "metadata": {},
   "outputs": [
    {
     "name": "stdout",
     "output_type": "stream",
     "text": [
      "Proportion of people in rural areas owning a bank account: 0.6097177350790682\n",
      "Proportion of people in urban areas owning a bank account: 0.3902822649209318\n"
     ]
    }
   ],
   "source": [
    "n_obs = len(df)\n",
    "\n",
    "rural_prop = len(df[df['location_type']=='Rural']) / n_obs\n",
    "urban_prop = len(df[df['location_type']=='Urban']) / n_obs\n",
    "\n",
    "print(f\"Proportion of people in rural areas owning a bank account: {rural_prop}\")\n",
    "print(f\"Proportion of people in urban areas owning a bank account: {urban_prop}\")"
   ]
  },
  {
   "cell_type": "code",
   "execution_count": 23,
   "id": "5273bc77",
   "metadata": {},
   "outputs": [
    {
     "data": {
      "text/plain": [
       "Index(['country', 'year', 'bank_account', 'location_type', 'cellphone_access',\n",
       "       'household_size', 'age_of_respondent', 'gender_of_respondent',\n",
       "       'relationship_with_head', 'marital_status', 'education_level',\n",
       "       'job_type'],\n",
       "      dtype='object')"
      ]
     },
     "execution_count": 23,
     "metadata": {},
     "output_type": "execute_result"
    }
   ],
   "source": [
    "df.columns"
   ]
  },
  {
   "cell_type": "markdown",
   "id": "d39a35c4",
   "metadata": {},
   "source": [
    "## 1. Building the Preprocessor\n",
    "---"
   ]
  },
  {
   "cell_type": "markdown",
   "id": "d6ec3434",
   "metadata": {},
   "source": [
    "Our categorical (nominal) variables will be\n",
    " - `country`\n",
    " - `marital_satus`\n",
    " - `gender_of_respondent`\n",
    " - `relationship_with_head`\n",
    "\n",
    "Our ordinal categorical variables will be\n",
    "- `location_type`\n",
    "- `cellphone_access`\n",
    "- `education_level`\n",
    "- `job_type`\n",
    "\n",
    "There variables are count data\n",
    "- `household_size`\n",
    "- `age_of_respondent`\n",
    "\n",
    "**Preprocessing steps**\n",
    "\n",
    "Categorical variables will be transformed as follows\n",
    "- `OneHotEncoder` will be used for nominal type, and \n",
    "- `OrdinalEncoder` will be used for ordinal type\n",
    "\n",
    "Our target variable `bank_account` will be transformed using the `LabelEncoder`. Count variables will be transfomed using the `MinMaxScaler` "
   ]
  },
  {
   "cell_type": "code",
   "execution_count": 24,
   "id": "6747fbb4",
   "metadata": {},
   "outputs": [],
   "source": [
    "from sklearn.preprocessing import OrdinalEncoder, OneHotEncoder, LabelEncoder, MinMaxScaler\n",
    "from sklearn.compose import ColumnTransformer"
   ]
  },
  {
   "cell_type": "markdown",
   "id": "5902eb85",
   "metadata": {},
   "source": [
    "### 1.1 Building the `ColumnTransformer` preprocessor"
   ]
  },
  {
   "cell_type": "code",
   "execution_count": 28,
   "id": "45ff8a5c",
   "metadata": {},
   "outputs": [],
   "source": [
    "ordinals = [\n",
    "    df['location_type'].unique().tolist(),\n",
    "    df['cellphone_access'].unique().tolist(),\n",
    "    df['education_level'].unique().tolist(),\n",
    "    df['job_type'].unique().tolist()\n",
    "]\n",
    "\n",
    "nominals = [\n",
    "    df['country'].unique().tolist(),\n",
    "    df['marital_status'].unique().tolist(),\n",
    "    df['gender_of_respondent'].unique().tolist(),\n",
    "    df['relationship_with_head'].unique().tolist()\n",
    "]\n",
    "\n",
    "nominal_features = ['country', 'marital_status', 'gender_of_respondent', 'relationship_with_head']\n",
    "ordinal_features = ['location_type', 'cellphone_access', 'education_level', 'job_type']\n",
    "count_features = ['household_size', 'age_of_respondent']\n",
    "\n",
    "preprocessor = ColumnTransformer(\n",
    "    [\n",
    "        ('ordinal', OrdinalEncoder(dtype=int, categories=ordinals), ordinal_features),\n",
    "        ('nominal', OneHotEncoder(dtype=int, categories=nominals), nominal_features),\n",
    "        ('count', MinMaxScaler(), count_features)\n",
    "    ], \n",
    "    sparse_threshold=0 # always output dense\n",
    ")"
   ]
  },
  {
   "cell_type": "code",
   "execution_count": 29,
   "id": "92cb767a",
   "metadata": {},
   "outputs": [],
   "source": [
    "from sklearn.model_selection import train_test_split\n",
    "\n",
    "X_train, X_test, y_train, y_test = \\\n",
    "    train_test_split(df.drop('bank_account', axis=1), \n",
    "                     df['bank_account'], random_state=0, test_size=0.2)"
   ]
  },
  {
   "cell_type": "code",
   "execution_count": 35,
   "id": "f4e276b2",
   "metadata": {},
   "outputs": [],
   "source": [
    "X_train_transformed = preprocessor.fit_transform(X_train)"
   ]
  },
  {
   "cell_type": "code",
   "execution_count": 36,
   "id": "bd3e52e6",
   "metadata": {},
   "outputs": [],
   "source": [
    "y_encoder = load_model('../models/bank_account_encoder.pkl')\n",
    "y_train_transformed = y_encoder.transform(y_train)"
   ]
  },
  {
   "cell_type": "code",
   "execution_count": 39,
   "id": "c46614d5",
   "metadata": {},
   "outputs": [],
   "source": [
    "save_model(model=preprocessor, filename='preprocessor.pkl')"
   ]
  },
  {
   "cell_type": "markdown",
   "id": "3c001fa9",
   "metadata": {},
   "source": [
    "## 2. Dealing with Class Imbalance\n",
    "\n",
    "---"
   ]
  },
  {
   "cell_type": "code",
   "execution_count": 30,
   "id": "c9651d48",
   "metadata": {},
   "outputs": [
    {
     "data": {
      "text/plain": [
       "<Axes: xlabel='bank_account'>"
      ]
     },
     "execution_count": 30,
     "metadata": {},
     "output_type": "execute_result"
    },
    {
     "data": {
      "image/png": "[encoded data removed]",
      "text/plain": [
       "<Figure size 720x480 with 1 Axes>"
      ]
     },
     "metadata": {},
     "output_type": "display_data"
    }
   ],
   "source": [
    "df['bank_account'].value_counts().plot(kind='bar', alpha=0.8)"
   ]
  },
  {
   "cell_type": "code",
   "execution_count": 37,
   "id": "066263ac",
   "metadata": {},
   "outputs": [],
   "source": [
    "ros = RandomOverSampler(random_state=0)\n",
    "X_train_ros, y_train_ros = ros.fit_resample(X_train_transformed, y_train_transformed)\n",
    "\n",
    "smote = SMOTE(random_state=0)\n",
    "X_train_smote, y_train_smote = smote.fit_resample(X_train_transformed, y_train_transformed)"
   ]
  },
  {
   "cell_type": "markdown",
   "id": "a63fdf70",
   "metadata": {},
   "source": [
    "### Save results"
   ]
  },
  {
   "cell_type": "code",
   "execution_count": 40,
   "id": "5e4cf8ed",
   "metadata": {},
   "outputs": [],
   "source": [
    "save_model(model=X_train_ros, filename='X_train_ros.pkl', save_to='../data/')\n",
    "save_model(model=X_train_smote, filename='X_train_smote.pkl', save_to='../data/')\n",
    "save_model(model=y_train_ros, filename='y_train_ros.pkl', save_to='../data/')\n",
    "save_model(model=y_train_smote, filename='y_train_smote.pkl', save_to='../data/')\n",
    "\n",
    "save_model(model=X_test, filename='X_test.pkl', save_to='../data/')\n",
    "save_model(model=y_test, filename='y_test.pkl', save_to='../data/')"
   ]
  },
  {
   "cell_type": "markdown",
   "id": "3222a4c3",
   "metadata": {},
   "source": [
    "----"
   ]
  }
 ],
 "metadata": {
  "kernelspec": {
   "display_name": "competetions",
   "language": "python",
   "name": "python3"
  },
  "language_info": {
   "codemirror_mode": {
    "name": "ipython",
    "version": 3
   },
   "file_extension": ".py",
   "mimetype": "text/x-python",
   "name": "python",
   "nbconvert_exporter": "python",
   "pygments_lexer": "ipython3",
   "version": "3.11.11"
  }
 },
 "nbformat": 4,
 "nbformat_minor": 5
}
