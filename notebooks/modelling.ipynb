{
 "cells": [
  {
   "cell_type": "markdown",
   "id": "a921cb75",
   "metadata": {},
   "source": [
    "# Modelling\n",
    "\n",
    "&copy; Sifiso Rimana | May, 2025 | Financial Inclusion - Zindi Competetion\n",
    "\n",
    "----"
   ]
  },
  {
   "cell_type": "markdown",
   "id": "fa37949c",
   "metadata": {},
   "source": [
    "The training and testing sets are already split in `feature_engineering.ipynb` notebook. Furthermore, `X_train` and `y_train` are already preprocessed, we can just fit them into the model. The testing set is not transformed, for predictions, these need to be passed into the preprocessor first."
   ]
  },
  {
   "cell_type": "markdown",
   "id": "a589ee46",
   "metadata": {},
   "source": [
    "##  Building models\n",
    "\n",
    "---"
   ]
  },
  {
   "cell_type": "code",
   "execution_count": 7,
   "id": "028203d1",
   "metadata": {},
   "outputs": [],
   "source": [
    "import matplotlib.pyplot as plt\n",
    "import pandas as pd\n",
    "import numpy as np\n",
    "import arviz as az \n",
    "\n",
    "plt.style.use('arviz-darkgrid')\n",
    "\n",
    "import sys\n",
    "sys.path.append('..')\n",
    "\n",
    "from scripts.utils import load_model\n",
    "from scripts.utils import save_model"
   ]
  },
  {
   "cell_type": "code",
   "execution_count": 2,
   "id": "1188cc88",
   "metadata": {},
   "outputs": [],
   "source": [
    "from sklearn.discriminant_analysis import QuadraticDiscriminantAnalysis\n",
    "from sklearn.discriminant_analysis import LinearDiscriminantAnalysis\n",
    "from sklearn.naive_bayes import CategoricalNB\n",
    "from sklearn.svm import SVC\n",
    "from sklearn.tree import DecisionTreeClassifier\n",
    "from sklearn.ensemble import RandomForestClassifier\n",
    "from sklearn.linear_model import LogisticRegressionCV, SGDClassifier, RidgeClassifierCV, RidgeClassifier\n",
    "\n",
    "from sklearn.pipeline import Pipeline\n",
    "from sklearn.model_selection import GridSearchCV\n",
    "\n",
    "from sklearn.metrics import mean_absolute_error as mae"
   ]
  },
  {
   "cell_type": "code",
   "execution_count": 8,
   "id": "deffbe3e",
   "metadata": {},
   "outputs": [],
   "source": [
    "X_train = load_model('../data/X_train_smote.pkl')\n",
    "y_train = load_model('../data/y_train_smote.pkl')\n",
    "X_test = load_model('../data/X_test.pkl')\n",
    "y_test = load_model('../data/y_test.pkl')\n",
    "\n",
    "preprocessor = load_model('../models/preprocessor.pkl')\n",
    "y_encoder = load_model('../models/bank_account_encoder.pkl')"
   ]
  },
  {
   "cell_type": "code",
   "execution_count": null,
   "id": "ad7ef3ed",
   "metadata": {},
   "outputs": [],
   "source": [
    "svc_clf = GridSearchCV(\n",
    "    SVC(), param_grid={'kernel':('linear', 'rbf'), 'C':[1, 10]}\n",
    ")\n",
    "\n",
    "svc_clf.fit(X_train, y_train)"
   ]
  },
  {
   "cell_type": "code",
   "execution_count": null,
   "id": "3084340f",
   "metadata": {},
   "outputs": [],
   "source": []
  },
  {
   "cell_type": "code",
   "execution_count": 28,
   "id": "a3707bf5",
   "metadata": {},
   "outputs": [
    {
     "data": {
      "text/plain": [
       "array([[0, 0, 2, ..., 0, 0, 0],\n",
       "       [3, 0, 3, ..., 0, 0, 0],\n",
       "       [3, 1, 2, ..., 0, 0, 0],\n",
       "       ...,\n",
       "       [3, 2, 5, ..., 1, 0, 0],\n",
       "       [3, 2, 5, ..., 0, 0, 0],\n",
       "       [5, 1, 0, ..., 0, 0, 0]])"
      ]
     },
     "execution_count": 28,
     "metadata": {},
     "output_type": "execute_result"
    }
   ],
   "source": [
    "preprocessor.transform(X_train)"
   ]
  },
  {
   "cell_type": "code",
   "execution_count": 52,
   "id": "b33ffbd0",
   "metadata": {},
   "outputs": [
    {
     "data": {
      "text/html": [
       "<div>\n",
       "<style scoped>\n",
       "    .dataframe tbody tr th:only-of-type {\n",
       "        vertical-align: middle;\n",
       "    }\n",
       "\n",
       "    .dataframe tbody tr th {\n",
       "        vertical-align: top;\n",
       "    }\n",
       "\n",
       "    .dataframe thead th {\n",
       "        text-align: right;\n",
       "    }\n",
       "</style>\n",
       "<table border=\"1\" class=\"dataframe\">\n",
       "  <thead>\n",
       "    <tr style=\"text-align: right;\">\n",
       "      <th></th>\n",
       "      <th>model_name</th>\n",
       "      <th>MAE</th>\n",
       "      <th>Better than Baseline</th>\n",
       "    </tr>\n",
       "  </thead>\n",
       "  <tbody>\n",
       "    <tr>\n",
       "      <th>0</th>\n",
       "      <td>QDA</td>\n",
       "      <td>0.126036</td>\n",
       "      <td>False</td>\n",
       "    </tr>\n",
       "    <tr>\n",
       "      <th>1</th>\n",
       "      <td>LDA</td>\n",
       "      <td>0.117747</td>\n",
       "      <td>False</td>\n",
       "    </tr>\n",
       "    <tr>\n",
       "      <th>2</th>\n",
       "      <td>RFC</td>\n",
       "      <td>0.120723</td>\n",
       "      <td>False</td>\n",
       "    </tr>\n",
       "    <tr>\n",
       "      <th>3</th>\n",
       "      <td>DTC</td>\n",
       "      <td>0.122635</td>\n",
       "      <td>False</td>\n",
       "    </tr>\n",
       "    <tr>\n",
       "      <th>4</th>\n",
       "      <td>SVC</td>\n",
       "      <td>0.112646</td>\n",
       "      <td>True</td>\n",
       "    </tr>\n",
       "    <tr>\n",
       "      <th>5</th>\n",
       "      <td>LogisticCV</td>\n",
       "      <td>0.113496</td>\n",
       "      <td>False</td>\n",
       "    </tr>\n",
       "    <tr>\n",
       "      <th>6</th>\n",
       "      <td>SGD</td>\n",
       "      <td>0.120510</td>\n",
       "      <td>False</td>\n",
       "    </tr>\n",
       "    <tr>\n",
       "      <th>7</th>\n",
       "      <td>Ridge</td>\n",
       "      <td>0.120935</td>\n",
       "      <td>False</td>\n",
       "    </tr>\n",
       "    <tr>\n",
       "      <th>8</th>\n",
       "      <td>RidgeCV</td>\n",
       "      <td>0.120510</td>\n",
       "      <td>False</td>\n",
       "    </tr>\n",
       "  </tbody>\n",
       "</table>\n",
       "</div>"
      ],
      "text/plain": [
       "   model_name       MAE  Better than Baseline\n",
       "0         QDA  0.126036                 False\n",
       "1         LDA  0.117747                 False\n",
       "2         RFC  0.120723                 False\n",
       "3         DTC  0.122635                 False\n",
       "4         SVC  0.112646                  True\n",
       "5  LogisticCV  0.113496                 False\n",
       "6         SGD  0.120510                 False\n",
       "7       Ridge  0.120935                 False\n",
       "8     RidgeCV  0.120510                 False"
      ]
     },
     "execution_count": 52,
     "metadata": {},
     "output_type": "execute_result"
    }
   ],
   "source": [
    "qda = Pipeline(steps=[\n",
    "    ('preprocessor', preprocessor),\n",
    "    ('QDA', QuadraticDiscriminantAnalysis(reg_param=0.1))\n",
    "])\n",
    "\n",
    "lda = Pipeline(steps=[\n",
    "    ('preprocessor', preprocessor),\n",
    "    ('LDA', LinearDiscriminantAnalysis())\n",
    "])\n",
    "\n",
    "rfc = Pipeline(steps=[\n",
    "    ('preprocessor', preprocessor),\n",
    "    ('RFC', RandomForestClassifier(random_state=42))\n",
    "])\n",
    "\n",
    "dtc = Pipeline(steps=[\n",
    "    ('preprocessor', preprocessor),\n",
    "    ('DTC', DecisionTreeClassifier())\n",
    "])\n",
    "\n",
    "svc = Pipeline(steps=[\n",
    "    ('preprocessor', preprocessor),\n",
    "    ('SVC', SVC())\n",
    "])\n",
    "\n",
    "lr_cv = Pipeline(steps=[\n",
    "    ('preprocessor', preprocessor),\n",
    "    ('LogisticCV', LogisticRegressionCV(penalty='l1', solver='liblinear'))\n",
    "])\n",
    "\n",
    "sgd_clf = Pipeline(steps=[\n",
    "    ('preprocessor', preprocessor),\n",
    "    ('SGD', SGDClassifier(penalty='l1'))\n",
    "])\n",
    "\n",
    "ridge = Pipeline(steps=[\n",
    "    ('preprocessor', preprocessor),\n",
    "    ('RidgeClf', RidgeClassifier())\n",
    "])\n",
    "\n",
    "ridge_cv = Pipeline(steps=[\n",
    "    ('preprocessor', preprocessor),\n",
    "    ('RidgeClfCV', RidgeClassifierCV())\n",
    "])\n",
    "\n",
    "models = [qda, lda, rfc, dtc, svc, lr_cv, sgd_clf, ridge, ridge_cv]\n",
    "model_names = ['QDA', 'LDA', 'RFC', 'DTC', 'SVC', 'LogisticCV', 'SGD', 'Ridge', 'RidgeCV']\n",
    "metrics = []\n",
    "\n",
    "baseline_model_metric = mae(y_test, baseline_model.predict(X_test))\n",
    "\n",
    "for model, model_name in zip(models, model_names):\n",
    "    model.fit(X_train, y_train)\n",
    "    current_metric = mae(y_true=y_test, y_pred=model.predict(X_test))\n",
    "    metrics.append({\n",
    "        'model_name': model_name,\n",
    "        'MAE': round(current_metric, 6),\n",
    "        'Better than Baseline': current_metric < baseline_model_metric\n",
    "    })\n",
    "\n",
    "\n",
    "\n",
    "pd.DataFrame.from_dict(metrics)"
   ]
  },
  {
   "cell_type": "code",
   "execution_count": 34,
   "id": "81a0fb17",
   "metadata": {},
   "outputs": [
    {
     "data": {
      "text/plain": [
       "0.1132837407013815"
      ]
     },
     "execution_count": 34,
     "metadata": {},
     "output_type": "execute_result"
    }
   ],
   "source": [
    "baseline_model_metric"
   ]
  },
  {
   "cell_type": "code",
   "execution_count": 44,
   "id": "5a8523d3",
   "metadata": {},
   "outputs": [],
   "source": [
    "def submission(model, filename: str, save_to='../submissions'):\n",
    "    df_test = pd.read_csv('../data/Test.csv', index_col='uniqueid')\n",
    "    age_bins = [0, 20, 25, 30, 50, 60, 100]\n",
    "    age_labels = ['<20', '20-25', '26-30', '31-50', '51-60', '60+']\n",
    "    df_test['age_group'] = \\\n",
    "        pd.cut(df_test['age_of_respondent'], bins=age_bins, \n",
    "               labels=age_labels, right=True, include_lowest=True)\n",
    "    \n",
    "    df_test['bank_account'] = model.predict(df_test)\n",
    "    \n",
    "    df_test['unique_id'] = df_test.index + ' x ' + df_test['country']\n",
    "    df_test[['unique_id', 'bank_account']].to_csv(f'{save_to}/{filename}', index=False)"
   ]
  },
  {
   "cell_type": "code",
   "execution_count": 53,
   "id": "ad1bacb4",
   "metadata": {},
   "outputs": [],
   "source": [
    "submission(lr_cv, filename='lr_vc_submission_03_2025-05-10.csv')"
   ]
  }
 ],
 "metadata": {
  "kernelspec": {
   "display_name": "competetions",
   "language": "python",
   "name": "python3"
  },
  "language_info": {
   "codemirror_mode": {
    "name": "ipython",
    "version": 3
   },
   "file_extension": ".py",
   "mimetype": "text/x-python",
   "name": "python",
   "nbconvert_exporter": "python",
   "pygments_lexer": "ipython3",
   "version": "3.11.11"
  }
 },
 "nbformat": 4,
 "nbformat_minor": 5
}
